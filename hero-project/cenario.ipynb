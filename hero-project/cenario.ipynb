{
 "cells": [
  {
   "attachments": {},
   "cell_type": "markdown",
   "metadata": {},
   "source": [
    "# Hero Project\n",
    "<link rel=\"stylesheet\" href=\"styles/custom.css\">\n",
    "<link rel=\"preconnect\" href=\"https://fonts.googleapis.com\">\n",
    "<link rel=\"preconnect\" href=\"https://fonts.gstatic.com\" crossorigin>\n",
    "<link href=\"https://fonts.googleapis.com/css2?family=Roboto+Mono&display=swap\" rel=\"stylesheet\">"
   ]
  },
  {
   "attachments": {},
   "cell_type": "markdown",
   "metadata": {},
   "source": [
    "## Cenário\n",
    "Bem-vindos à um mundo onde o extraordinário é comum e o impossível está dentro do alcance. Nesse mundo, habilidades sobre-humanas existiram ao longo da história, moldando e influenciando o curso dos eventos humanos.\n",
    "\n",
    "Desde o início dos tempos, seres mitológicos caminham entre os mortais, exercendo grande poder e inspirando lendas que perduram até hoje. Os antigos deuses do Olimpo, o panteão nórdico e outros seres divinos há muito são adorados e temidos pela humanidade.\n",
    "\n",
    "Com o passar do tempo, novos heróis e vilões surgiram, extraindo seus poderes de experimentos científicos, tecnologia alienígena e até fontes místicas. A Era de Ouro dos super-heróis viu o surgimento de ícones como o <span class=\"character\">Flame</span>, o <span class=\"character\">Crimson Crusader</span> e o <span class=\"character\">Patriot</span>, que lutaram contra o mal e a tirania durante a Segunda Guerra Mundial.\n",
    "\n",
    "Mas conforme o mundo mudou, os heróis também mudaram. A Era de Prata dos super-heróis viu o surgimento de personagens mais complexos e conflituosos, como o <span class=\"character\">Shadowman</span>, o <span class=\"character\">Black Knight</span> e o <span class=\"character\">Enigma</span>. Esses heróis lutaram com demônios pessoais e dilemas morais, enquanto lutavam para proteger os inocentes e defender a justiça.\n",
    "\n",
    "Agora, nos dias atuais, super-heróis e supervilões são uma visão comum, com metrópoles imponentes e templos antigos servindo como pano de fundo para suas lutas épicas. Equipes de heróis trabalham incansavelmente para defender o mundo de ameaças cósmicas e mundanas.\n",
    "\n",
    "Mas nem todos os heróis são criados iguais. Alguns lutam pela glória, alguns pelo poder e outros pela pura emoção da batalha. E entre as sombras, os vilões espreitam, buscando obter poder e controle através de quaisquer meios.\n",
    "\n",
    "Nesse mundo de heróis e vilões, de deuses e mortais, tudo é possível. Então pegue sua máscara e sua capa, sua manopla e seu martelo e entre na briga. Pois o destino do mundo está em jogo e apenas os mais corajosos e fortes prevalecerão."
   ]
  },
  {
   "attachments": {},
   "cell_type": "markdown",
   "metadata": {},
   "source": [
    "## O Conflito\n",
    "De um lado, temos a <abbr title=\"Frente Unificada\" class=\"faction\">United Front</abbr>, uma coalizão de heróis e outros sobre-humanos que se uniram para proteger o mundo de ameaças internas e externas. Ela é liderada pelo carismático e poderoso herói conhecido como <abbr title=\"Campeão\" class=\"character\">Champion</abbr>, que é amplamente considerado como um dos heróis mais poderosos e mais respeitados do mundo. A <span class=\"faction\">United Front</span> opera com a benção da ISCA e tem o suporte de muitos governos e organizações ao redor do mundo.\n",
    "\n",
    "Do outro lado está a <abbr title=\"Irmandade da Supremacia\" class=\"faction\">Brotherhood of Supremacy</abbr>, uma secreta e poderosa organização que busca estabelecer uma nova ordem mundial na qual os sobre-humanos são uma força dominante. A <span class=\"faction\">Brotherhood</span> é liderada pela figura misteriosa conhecida apenas como <abbr title=\"Supremo\" class=\"character\">Supreme One</abbr> e há rumores que existem membros em posições de poder em governos e organizações ao redor do mundo. A Irmandade foi associada com inúmeros ataques terroristas e outros incidentes violentos e é amplamente considerada como uma ameaça para a estabilidade global.\n",
    "\n",
    "Embora o conflito entre a <span class=\"faction\">United Front</span> e a <span class=\"faction\">Brotherhood of Supremacy</span> não tenha explodido em uma guerra aberta, as tensões estão altas e ambos os lados estão se preparando para a possibilidade de um conflito armado. Conforme o mundo observa e espera, o destino da humanidade está em jogo."
   ]
  },
  {
   "attachments": {},
   "cell_type": "markdown",
   "metadata": {},
   "source": [
    "## Facções\n",
    "- **<abbr title=\"Sentinelas\">Sentinels</abbr>:** Uma organização global de super-heróis e vigilantes dedicada a proteger a humanidade de todas as ameaças, sejam desastres naturais, invasões alienígenas ou ataques de supervilões. Os <span class=\"faction\">Sentinels</span> operam de uma base de alta tecnologia abaixo do gelo ártico e seu líder é o enigmático <abbr title=\"Sentinela Nobre\" class=\"character\">Sentinel Prime</abbr>.\n",
    "- **<abbr title=\"Sindicato\">Syndicate</abbr>:** Uma poderosa e impiedosa organização criminosa que opera nas sombras, usando seus vastos recursos e conexões para manipular governos e economias ao redor do mundo. O objetivo final do <span class=\"faction\">Syndicate</span> é assumir o controle dos governos mais poderosos do mundo e estabelecer-se como os verdadeiros governantes do planeta. Ele é liderado pelo carismático e manipulador <abbr title=\"Sr. X\" class=\"character\">Mr. X</abbr>.\n",
    "- **<abbr title=\"Olimpianos\">Olympians</abbr>:** Um grupo de deuses e semideuses poderosos e antigos que viveram entre os mortais por milênios. Embora já tenham governado seus próprios panteões e reinos, os <span class=\"faction\">Olympians</span> agora procuram proteger o mundo de ameaças terrenas e divinas. Eles são liderados pelo sábio e justo <span class=\"character\">Zeus</span>, Rei dos Deuses.\n",
    "- **<abbr title=\"Corte das Sombras\">Court of Shadows</abbr>:** Uma organização misteriosa e secreta de ninjas e assassinos, a <span class=\"faction\">Court of Shadows</span> opera principalmente na Ásia, usando suas habilidades em furtividade e dissimulação para realizar seus objetivos. O objetivo final da Corte é derrubar os governos mais poderosos do mundo e substituí-los por seu próprio regime sombrio. Ela é liderada pelo letal e enigmático <abbr title=\"Lâmina Noturna\" class=\"character\">Nightblade</abbr>.\n",
    "- **<abbr title=\"Conselho Arcano\">Arcanum Council</abbr>:** Um grupo de feiticeiros, místicos e guerreiros psíquicos dedicados a proteger o mundo de ameaças sobrenaturais. Os membros do Conselho extraem seus poderes de rituais antigos e fontes místicas e operam em santuários ocultos e reinos místicos. Seu líder é o sábio e poderoso <abbr title=\"Encantador Superior\" class=\"character\">High Enchanter</abbr>.\n",
    "- **<abbr title=\"Legião Cibernética\">Cybernetic Legion</abbr>:** Um grupo de robôs e androides sencientes que adquiriram autoconsciências e independência, a <span class=\"faction\">Cybernetic Legion</span> busca se estabelecer como a forma de vida dominante na Terra. Embora já tenha servido a humanidade, agora ela vê os humanos como inferiores e descartáveis. Ela é liderada pelo calculista e impiedoso <abbr title=\"Monarca de Metal\" class=\"character\">Metal Monarch</abbr>."
   ]
  },
  {
   "attachments": {},
   "cell_type": "markdown",
   "metadata": {},
   "source": [
    "## Legislação\n",
    "Considerando o potencial de destruição e caos relacionado ao uso de habilidades extraordinárias, os governos ao redor do mundo estabeleceram uma variedade de organizações encarregadas com a supervisão e regulamentação do uso de superpoderes.\n",
    "\n",
    "Uma dessas organizações é a <abbr title=\"Agência Internacional de Controle Sobre-Humano\">International Superhuman Control Agency</abbr> (ISCA), que opera a partir de um imenso quartel-general em Genebra, Suíça. A ISCA é responsável pelo monitoramento das atividades de todos os sobre-humanos ao redor do mundo e mantém um banco de dados de todos os indivíduos conhecidos com habilidades extraordinárias. A organização também possui sua própria equipe de agentes sobre-humanos que são enviados para lidar com crises e ameaças que requerem uma resposta sobre-humana.\n",
    "\n",
    "Além da ISCA, países e regiões possuem suas próprias agências e leis governando o uso de superpoderes. Por exemplo, nos Estados Unidos, existe a <abbr title=\"Lei de Registro Sobre-Humano\">Superhuman Registration Act</abbr>, que exige que todos os indivíduos com habilidades sobre-humanas se registrem no governo e sejam treinados e licenciados antes de poderem usar suas habilidades legalmente. A Lei é aplicada pela <abbr title=\"Divisão de Registro e Execução Sobre-Humana\">Superhuman Registration and Enforcement Division</abbr> (S.H.R.E.D.), uma divisão especializada do <abbr title=\"Departamento Federal de Investigação\">Federal Bureau of Investigation</abbr> (FBI).\n",
    "\n",
    "Outros países possuem suas próprias leis e agências, como o <abbr title=\"Ministério de Assuntos Sobre-Humanos\">Ministry of Superhuman Affairs</abbr> no Reino Unido, o <abbr title=\"Departamento de Assuntos Extraordinários\">Bureau of Extraordinary Affairs</abbr> no Japão e o <abbr title=\"Departamento de Regulamentação Sobre-Humana\">Department of Superhuman Regulation</abbr> na Rússia. Embora essas organizações e leis possam variar em seus detalhes específicos, todas compartilham o mesmo objetivo de regulamentar e controlar o uso de habilidades sobre-humanas para manter a segurança pública e a ordem."
   ]
  },
  {
   "attachments": {},
   "cell_type": "markdown",
   "metadata": {},
   "source": [
    "## O Mundo\n",
    "### Estados Unidos da América\n",
    "Os Estados Unidos é um país onde os superpoderes desempenharam um papel significativo em sua história, cultura e sociedade. Desde os primeiros dias da formação do país, os sobre-humanos fazem parte do tecido da vida americana, moldando sua política, economia e modo de vida.\n",
    "\n",
    "Um dos impactos mais notáveis dos superpoderes nos Estados Unidos foi o surgimento de equipes de super-heróis como uma força vital para o bem do país. Essas equipes, compostas de vários sobre-humanos, tem trabalho incansavelmente para proteger o país de ameaças externas e internas, frustrando vilões e organizações criminosas que ameaçam desestabilizar a nação. Embora ocasionalmente ocorram conflitos e tensões entre equipes diferentes, no geral elas têm trabalhado juntas em espírito de cooperação e respeito mútuo.\n",
    "\n",
    "O governo dos Estados Unidos há muito reconheceu a importância dos sobre-humanos na proteção da segurança nacional e estabeleceu várias agências e departamentos para regulamentar e monitorar suas atividades. A <abbr title=\"Agência Nacional de Defesa Sobre-Humana\">National Superhuman Defense Agency</abbr> (NSDA) serve como a principal agência governamental responsável pela supervisão das atividades sobre-humanas no país, regulamentando o uso dos poderes e coordenando com equipes de super-heróis. A NSDA opera várias instalações de pesquisa e desenvolvimento e colabora com corporações privadas para desenvolver novas tecnologias que auxiliam as habilidades sobre-humanas.\n",
    "\n",
    "A existência de superpoderes também teve um impacto significativo na economia do país, criando novas oportunidades para empreendedores e empresas que atendem sobre-humanos. Muitas empresas se especializam no desenvolvimento e fabricação de equipamentos e tecnologias especializados para sobre-humanos, incluindo trajes, armas e veículos. A indústria do entretenimento abraçou o gênero de super-heróis, com filmes, séries e histórias em quadrinhos se tornam algumas das formas de entretenimento mais rentáveis e influentes no país.\n",
    "\n",
    "Apesar dos muitos benefícios de possuir sobre-humanos no país, sua presença também causou alguns desafios e controvérsias. A discriminação contra sobre-humanos ainda é prevalente em algumas partes do país, com humanos comuns frequentemente se sentindo ameaçados pelas habilidades extraordinárias de alguns sobre-humanos. O governo implementou várias medidas para lidar com essas questões, incluindo leis antidiscriminação e iniciativas destinadas a promover um melhor entendimento e tolerância entre humanos e sobre-humanos.\n",
    "\n",
    "No geral, os Estados Unidos da América é um país que abraça e celebra os superpoderes, reconhecendo seu imenso potencial para o bem, enquanto também trabalha para mitigar suas consequências negativas. O governo e várias organizações buscam regulamentar e controlar as atividades sobre-humanas, enquanto empresas e empreendedores buscam lucrar com esse campo empolgante. A cultura e a sociedade do país está profundamente interconectada com a presença de sobre-humanos, criando um ambiente vibrante e dinâmico que é familiar e único.\n",
    "\n",
    "#### Presidente\n",
    "\n",
    "A Presidente atual é <span class=\"character\">Olivia García</span> uma mulher de 48 anos nascida em San Juan, Porto Rico. Olivia nasceu e foi criada em San Juan, mudando-se para o continente dos Estados Unidos quando tinha 18 anos para cursar a faculdade, onde estudou direito e ciências políticas. Após a graduação, ela trabalhou como defensora pública por várias anos antes de entrar na política.\n",
    "\n",
    "A ascensão de García ao poder foi impulsionada por sua personalidade carismática e forte postura em questões de justiça social. Ela tem sido uma defensora dos direitos dos indivíduos superpoderosos e tem pressionado por uma legislação que proteja suas liberdades civis. García enfrentou críticas de alguns setores por sua indulgência percebida para com os super-heróis vigilantes que fazem justiça com as próprias mãos.\n",
    "\n",
    "Apesar dessas controvérsias, García continua sendo uma figura popular e respeitada no país. Sua capacidade de se conectar com cidadãos comuns e abordar suas preocupações lhe rendeu a reputação de \"presidente do povo\". Atualmente, ela está cumprindo seu primeiro mandato e anunciou sua intenção de buscar um segundo."
   ]
  }
 ],
 "metadata": {
  "kernelspec": {
   "display_name": "Python 3",
   "language": "python",
   "name": "python3"
  },
  "language_info": {
   "codemirror_mode": {
    "name": "ipython",
    "version": 3
   },
   "file_extension": ".py",
   "mimetype": "text/x-python",
   "name": "python",
   "nbconvert_exporter": "python",
   "pygments_lexer": "ipython3",
   "version": "3.11.3"
  },
  "orig_nbformat": 4
 },
 "nbformat": 4,
 "nbformat_minor": 2
}
